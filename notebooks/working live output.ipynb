{
 "cells": [
  {
   "cell_type": "code",
   "execution_count": 1,
   "metadata": {},
   "outputs": [],
   "source": [
    "# http://selenium-python.readthedocs.io/getting-started.html\n",
    "import time \n",
    "import re\n",
    "from selenium import webdriver\n",
    "from selenium.webdriver.common.keys import Keys\n",
    "from selenium.webdriver.common.by import By\n",
    "from selenium.webdriver.support.ui import WebDriverWait\n",
    "from selenium.webdriver.support import expected_conditions as EC\n",
    "from selenium.webdriver.chrome.options import Options\n",
    "try:\n",
    "    import Image\n",
    "except ImportError:\n",
    "    from PIL import Image\n",
    "import pytesseract\n",
    "import glob\n",
    "import matplotlib, cv2\n",
    "import numpy as np\n",
    "import matplotlib.pyplot as plt\n",
    "import re"
   ]
  },
  {
   "cell_type": "code",
   "execution_count": 2,
   "metadata": {},
   "outputs": [],
   "source": [
    "screenshots_dir = '../screenshots/'\n",
    "selenium_path = '../selenium/'\n",
    "driver_path = selenium_path + 'chromedriver'\n",
    "adblock_path = selenium_path + 'adblock/1.500_0/'\n",
    "video_url='https://youtu.be/Nf_pakPwZg0?t=37m58s'\n",
    "data_path = \"../screenshots/\"\n",
    "images = glob.glob(data_path+'lcs*.png')"
   ]
  },
  {
   "cell_type": "code",
   "execution_count": 3,
   "metadata": {},
   "outputs": [],
   "source": [
    "def crop_scoreboard(img):\n",
    "    return img[1560:1945,1060:2310]\n",
    "\n",
    "def get_team1_scores(scoreboard):\n",
    "    return scoreboard[:, 350:550]\n",
    "\n",
    "def get_team2_scores(scoreboard):\n",
    "    return scoreboard[:, 715:910]\n",
    "def invert_img(img):\n",
    "    return cv2.bitwise_not(img)\n",
    "\n",
    "def greyscale(img):\n",
    "    return cv2.cvtColor(img, cv2.COLOR_BGR2GRAY)\n",
    "\n",
    "def binary_threshold(img):\n",
    "    _,thresh = cv2.threshold(img,127,255,cv2.THRESH_BINARY)\n",
    "    return thresh\n",
    "\n",
    "def thicken(img):\n",
    "    return cv2.medianBlur(img,3)\n",
    "\n",
    "def get_scores(scores_img, side=None):\n",
    "    delimiters=' /'\n",
    "    regex = \"[{0}]+\".format(delimiters)\n",
    "    invert = invert_img(scores_img)\n",
    "    thresh = binary_threshold(invert)\n",
    "    thick = thicken(thresh)\n",
    "    text = pytesseract.image_to_string(thick, config=\"-c tessedit_char_whitelist=/0123456789 -psm 6\")\n",
    "    players = text.split('\\n')\n",
    "    player_score = [[int(val) for val in re.split(regex, player_txt)] for player_txt in players]\n",
    "    if side == 'right':\n",
    "        player_score = [player[1:] +[player[0]] for player in player_score]\n",
    "    return player_score\n",
    "        \n",
    "\n",
    "def get_curr_scores(scoreboard):\n",
    "    team1, team2 = get_team1_scores(scoreboard), get_team2_scores(scoreboard)\n",
    "    return {'left': get_scores(team1, 'left'), 'right': get_scores(team2, 'right')}"
   ]
  },
  {
   "cell_type": "code",
   "execution_count": 4,
   "metadata": {},
   "outputs": [],
   "source": [
    "def get_scores_from_img(img_path):\n",
    "    img = cv2.imread(img_path)\n",
    "    img = cv2.cvtColor(img, cv2.COLOR_BGR2RGB)\n",
    "    return get_curr_scores(crop_scoreboard(img))\n",
    "\n",
    "def show_img(img, gray=False):\n",
    "    plt.figure(figsize=(10,10))\n",
    "    if (gray):\n",
    "        plt.imshow(img, 'gray')\n",
    "    else:\n",
    "        plt.imshow(img)\n",
    "        \n",
    "def show_img_from_path(img_path):\n",
    "    img = cv2.imread(img_path)\n",
    "    img = cv2.cvtColor(img, cv2.COLOR_BGR2RGB)\n",
    "    show_img(img, False)"
   ]
  },
  {
   "cell_type": "code",
   "execution_count": 5,
   "metadata": {},
   "outputs": [],
   "source": [
    "img_name = 'curr_img.png'\n",
    "curr_img_path = screenshots_dir + img_name"
   ]
  },
  {
   "cell_type": "code",
   "execution_count": 6,
   "metadata": {},
   "outputs": [
    {
     "name": "stdout",
     "output_type": "stream",
     "text": [
      "screenshot 0\n"
     ]
    },
    {
     "ename": "TypeError",
     "evalue": "Unsupported image object",
     "output_type": "error",
     "traceback": [
      "\u001b[0;31m---------------------------------------------------------------------------\u001b[0m",
      "\u001b[0;31mTypeError\u001b[0m                                 Traceback (most recent call last)",
      "\u001b[0;32m<ipython-input-6-979710bea2a0>\u001b[0m in \u001b[0;36m<module>\u001b[0;34m()\u001b[0m\n\u001b[1;32m     38\u001b[0m         \u001b[0mprint\u001b[0m\u001b[0;34m(\u001b[0m\u001b[0;34m'screenshot {0}'\u001b[0m\u001b[0;34m.\u001b[0m\u001b[0mformat\u001b[0m\u001b[0;34m(\u001b[0m\u001b[0midx\u001b[0m\u001b[0;34m)\u001b[0m\u001b[0;34m)\u001b[0m\u001b[0;34m\u001b[0m\u001b[0m\n\u001b[1;32m     39\u001b[0m \u001b[0;31m#         show_img_from_path(curr_img_path)\u001b[0m\u001b[0;34m\u001b[0m\u001b[0;34m\u001b[0m\u001b[0m\n\u001b[0;32m---> 40\u001b[0;31m         \u001b[0mprint\u001b[0m\u001b[0;34m(\u001b[0m\u001b[0mget_scores_from_img\u001b[0m\u001b[0;34m(\u001b[0m\u001b[0mcurr_img_path\u001b[0m\u001b[0;34m)\u001b[0m\u001b[0;34m)\u001b[0m\u001b[0;34m\u001b[0m\u001b[0m\n\u001b[0m\u001b[1;32m     41\u001b[0m         \u001b[0mtime\u001b[0m\u001b[0;34m.\u001b[0m\u001b[0msleep\u001b[0m\u001b[0;34m(\u001b[0m\u001b[0;36m5\u001b[0m\u001b[0;34m)\u001b[0m\u001b[0;34m\u001b[0m\u001b[0m\n\u001b[1;32m     42\u001b[0m \u001b[0;32mfinally\u001b[0m\u001b[0;34m:\u001b[0m\u001b[0;34m\u001b[0m\u001b[0m\n",
      "\u001b[0;32m<ipython-input-4-820e9dcc337c>\u001b[0m in \u001b[0;36mget_scores_from_img\u001b[0;34m(img_path)\u001b[0m\n\u001b[1;32m      2\u001b[0m     \u001b[0mimg\u001b[0m \u001b[0;34m=\u001b[0m \u001b[0mcv2\u001b[0m\u001b[0;34m.\u001b[0m\u001b[0mimread\u001b[0m\u001b[0;34m(\u001b[0m\u001b[0mimg_path\u001b[0m\u001b[0;34m)\u001b[0m\u001b[0;34m\u001b[0m\u001b[0m\n\u001b[1;32m      3\u001b[0m     \u001b[0mimg\u001b[0m \u001b[0;34m=\u001b[0m \u001b[0mcv2\u001b[0m\u001b[0;34m.\u001b[0m\u001b[0mcvtColor\u001b[0m\u001b[0;34m(\u001b[0m\u001b[0mimg\u001b[0m\u001b[0;34m,\u001b[0m \u001b[0mcv2\u001b[0m\u001b[0;34m.\u001b[0m\u001b[0mCOLOR_BGR2RGB\u001b[0m\u001b[0;34m)\u001b[0m\u001b[0;34m\u001b[0m\u001b[0m\n\u001b[0;32m----> 4\u001b[0;31m     \u001b[0;32mreturn\u001b[0m \u001b[0mget_curr_scores\u001b[0m\u001b[0;34m(\u001b[0m\u001b[0mcrop_scoreboard\u001b[0m\u001b[0;34m(\u001b[0m\u001b[0mimg\u001b[0m\u001b[0;34m)\u001b[0m\u001b[0;34m)\u001b[0m\u001b[0;34m\u001b[0m\u001b[0m\n\u001b[0m\u001b[1;32m      5\u001b[0m \u001b[0;34m\u001b[0m\u001b[0m\n\u001b[1;32m      6\u001b[0m \u001b[0;32mdef\u001b[0m \u001b[0mshow_img\u001b[0m\u001b[0;34m(\u001b[0m\u001b[0mimg\u001b[0m\u001b[0;34m,\u001b[0m \u001b[0mgray\u001b[0m\u001b[0;34m=\u001b[0m\u001b[0;32mFalse\u001b[0m\u001b[0;34m)\u001b[0m\u001b[0;34m:\u001b[0m\u001b[0;34m\u001b[0m\u001b[0m\n",
      "\u001b[0;32m<ipython-input-3-169c451f1b3f>\u001b[0m in \u001b[0;36mget_curr_scores\u001b[0;34m(scoreboard)\u001b[0m\n\u001b[1;32m     36\u001b[0m \u001b[0;32mdef\u001b[0m \u001b[0mget_curr_scores\u001b[0m\u001b[0;34m(\u001b[0m\u001b[0mscoreboard\u001b[0m\u001b[0;34m)\u001b[0m\u001b[0;34m:\u001b[0m\u001b[0;34m\u001b[0m\u001b[0m\n\u001b[1;32m     37\u001b[0m     \u001b[0mteam1\u001b[0m\u001b[0;34m,\u001b[0m \u001b[0mteam2\u001b[0m \u001b[0;34m=\u001b[0m \u001b[0mget_team1_scores\u001b[0m\u001b[0;34m(\u001b[0m\u001b[0mscoreboard\u001b[0m\u001b[0;34m)\u001b[0m\u001b[0;34m,\u001b[0m \u001b[0mget_team2_scores\u001b[0m\u001b[0;34m(\u001b[0m\u001b[0mscoreboard\u001b[0m\u001b[0;34m)\u001b[0m\u001b[0;34m\u001b[0m\u001b[0m\n\u001b[0;32m---> 38\u001b[0;31m     \u001b[0;32mreturn\u001b[0m \u001b[0;34m{\u001b[0m\u001b[0;34m'left'\u001b[0m\u001b[0;34m:\u001b[0m \u001b[0mget_scores\u001b[0m\u001b[0;34m(\u001b[0m\u001b[0mteam1\u001b[0m\u001b[0;34m,\u001b[0m \u001b[0;34m'left'\u001b[0m\u001b[0;34m)\u001b[0m\u001b[0;34m,\u001b[0m \u001b[0;34m'right'\u001b[0m\u001b[0;34m:\u001b[0m \u001b[0mget_scores\u001b[0m\u001b[0;34m(\u001b[0m\u001b[0mteam2\u001b[0m\u001b[0;34m,\u001b[0m \u001b[0;34m'right'\u001b[0m\u001b[0;34m)\u001b[0m\u001b[0;34m}\u001b[0m\u001b[0;34m\u001b[0m\u001b[0m\n\u001b[0m",
      "\u001b[0;32m<ipython-input-3-169c451f1b3f>\u001b[0m in \u001b[0;36mget_scores\u001b[0;34m(scores_img, side)\u001b[0m\n\u001b[1;32m     26\u001b[0m     \u001b[0mthresh\u001b[0m \u001b[0;34m=\u001b[0m \u001b[0mbinary_threshold\u001b[0m\u001b[0;34m(\u001b[0m\u001b[0minvert\u001b[0m\u001b[0;34m)\u001b[0m\u001b[0;34m\u001b[0m\u001b[0m\n\u001b[1;32m     27\u001b[0m     \u001b[0mthick\u001b[0m \u001b[0;34m=\u001b[0m \u001b[0mthicken\u001b[0m\u001b[0;34m(\u001b[0m\u001b[0mthresh\u001b[0m\u001b[0;34m)\u001b[0m\u001b[0;34m\u001b[0m\u001b[0m\n\u001b[0;32m---> 28\u001b[0;31m     \u001b[0mtext\u001b[0m \u001b[0;34m=\u001b[0m \u001b[0mpytesseract\u001b[0m\u001b[0;34m.\u001b[0m\u001b[0mimage_to_string\u001b[0m\u001b[0;34m(\u001b[0m\u001b[0mthick\u001b[0m\u001b[0;34m,\u001b[0m \u001b[0mconfig\u001b[0m\u001b[0;34m=\u001b[0m\u001b[0;34m\"-c tessedit_char_whitelist=/0123456789 -psm 6\"\u001b[0m\u001b[0;34m)\u001b[0m\u001b[0;34m\u001b[0m\u001b[0m\n\u001b[0m\u001b[1;32m     29\u001b[0m     \u001b[0mplayers\u001b[0m \u001b[0;34m=\u001b[0m \u001b[0mtext\u001b[0m\u001b[0;34m.\u001b[0m\u001b[0msplit\u001b[0m\u001b[0;34m(\u001b[0m\u001b[0;34m'\\n'\u001b[0m\u001b[0;34m)\u001b[0m\u001b[0;34m\u001b[0m\u001b[0m\n\u001b[1;32m     30\u001b[0m     \u001b[0mplayer_score\u001b[0m \u001b[0;34m=\u001b[0m \u001b[0;34m[\u001b[0m\u001b[0;34m[\u001b[0m\u001b[0mint\u001b[0m\u001b[0;34m(\u001b[0m\u001b[0mval\u001b[0m\u001b[0;34m)\u001b[0m \u001b[0;32mfor\u001b[0m \u001b[0mval\u001b[0m \u001b[0;32min\u001b[0m \u001b[0mre\u001b[0m\u001b[0;34m.\u001b[0m\u001b[0msplit\u001b[0m\u001b[0;34m(\u001b[0m\u001b[0mregex\u001b[0m\u001b[0;34m,\u001b[0m \u001b[0mplayer_txt\u001b[0m\u001b[0;34m)\u001b[0m\u001b[0;34m]\u001b[0m \u001b[0;32mfor\u001b[0m \u001b[0mplayer_txt\u001b[0m \u001b[0;32min\u001b[0m \u001b[0mplayers\u001b[0m\u001b[0;34m]\u001b[0m\u001b[0;34m\u001b[0m\u001b[0m\n",
      "\u001b[0;32m~/.pyenv/versions/3.7.0/lib/python3.7/site-packages/pytesseract/pytesseract.py\u001b[0m in \u001b[0;36mimage_to_string\u001b[0;34m(image, lang, config, nice, boxes, output_type)\u001b[0m\n\u001b[1;32m    292\u001b[0m         \u001b[0margs\u001b[0m\u001b[0;34m.\u001b[0m\u001b[0mappend\u001b[0m\u001b[0;34m(\u001b[0m\u001b[0;32mTrue\u001b[0m\u001b[0;34m)\u001b[0m\u001b[0;34m\u001b[0m\u001b[0m\n\u001b[1;32m    293\u001b[0m \u001b[0;34m\u001b[0m\u001b[0m\n\u001b[0;32m--> 294\u001b[0;31m     \u001b[0;32mreturn\u001b[0m \u001b[0mrun_and_get_output\u001b[0m\u001b[0;34m(\u001b[0m\u001b[0;34m*\u001b[0m\u001b[0margs\u001b[0m\u001b[0;34m)\u001b[0m\u001b[0;34m\u001b[0m\u001b[0m\n\u001b[0m\u001b[1;32m    295\u001b[0m \u001b[0;34m\u001b[0m\u001b[0m\n\u001b[1;32m    296\u001b[0m \u001b[0;34m\u001b[0m\u001b[0m\n",
      "\u001b[0;32m~/.pyenv/versions/3.7.0/lib/python3.7/site-packages/pytesseract/pytesseract.py\u001b[0m in \u001b[0;36mrun_and_get_output\u001b[0;34m(image, extension, lang, config, nice, return_bytes)\u001b[0m\n\u001b[1;32m    190\u001b[0m     \u001b[0mtemp_name\u001b[0m\u001b[0;34m,\u001b[0m \u001b[0minput_filename\u001b[0m \u001b[0;34m=\u001b[0m \u001b[0;34m''\u001b[0m\u001b[0;34m,\u001b[0m \u001b[0;34m''\u001b[0m\u001b[0;34m\u001b[0m\u001b[0m\n\u001b[1;32m    191\u001b[0m     \u001b[0;32mtry\u001b[0m\u001b[0;34m:\u001b[0m\u001b[0;34m\u001b[0m\u001b[0m\n\u001b[0;32m--> 192\u001b[0;31m         \u001b[0mtemp_name\u001b[0m\u001b[0;34m,\u001b[0m \u001b[0minput_filename\u001b[0m \u001b[0;34m=\u001b[0m \u001b[0msave_image\u001b[0m\u001b[0;34m(\u001b[0m\u001b[0mimage\u001b[0m\u001b[0;34m)\u001b[0m\u001b[0;34m\u001b[0m\u001b[0m\n\u001b[0m\u001b[1;32m    193\u001b[0m         kwargs = {\n\u001b[1;32m    194\u001b[0m             \u001b[0;34m'input_filename'\u001b[0m\u001b[0;34m:\u001b[0m \u001b[0minput_filename\u001b[0m\u001b[0;34m,\u001b[0m\u001b[0;34m\u001b[0m\u001b[0m\n",
      "\u001b[0;32m~/.pyenv/versions/3.7.0/lib/python3.7/site-packages/pytesseract/pytesseract.py\u001b[0m in \u001b[0;36msave_image\u001b[0;34m(image)\u001b[0m\n\u001b[1;32m    105\u001b[0m         \u001b[0;32mreturn\u001b[0m \u001b[0mtemp_name\u001b[0m\u001b[0;34m,\u001b[0m \u001b[0mrealpath\u001b[0m\u001b[0;34m(\u001b[0m\u001b[0mnormpath\u001b[0m\u001b[0;34m(\u001b[0m\u001b[0mnormcase\u001b[0m\u001b[0;34m(\u001b[0m\u001b[0mimage\u001b[0m\u001b[0;34m)\u001b[0m\u001b[0;34m)\u001b[0m\u001b[0;34m)\u001b[0m\u001b[0;34m\u001b[0m\u001b[0m\n\u001b[1;32m    106\u001b[0m \u001b[0;34m\u001b[0m\u001b[0m\n\u001b[0;32m--> 107\u001b[0;31m     \u001b[0mimage\u001b[0m \u001b[0;34m=\u001b[0m \u001b[0mprepare\u001b[0m\u001b[0;34m(\u001b[0m\u001b[0mimage\u001b[0m\u001b[0;34m)\u001b[0m\u001b[0;34m\u001b[0m\u001b[0m\n\u001b[0m\u001b[1;32m    108\u001b[0m     \u001b[0mimg_extension\u001b[0m \u001b[0;34m=\u001b[0m \u001b[0mimage\u001b[0m\u001b[0;34m.\u001b[0m\u001b[0mformat\u001b[0m\u001b[0;34m\u001b[0m\u001b[0m\n\u001b[1;32m    109\u001b[0m     \u001b[0;32mif\u001b[0m \u001b[0mimage\u001b[0m\u001b[0;34m.\u001b[0m\u001b[0mformat\u001b[0m \u001b[0;32mnot\u001b[0m \u001b[0;32min\u001b[0m \u001b[0;34m{\u001b[0m\u001b[0;34m'JPEG'\u001b[0m\u001b[0;34m,\u001b[0m \u001b[0;34m'PNG'\u001b[0m\u001b[0;34m,\u001b[0m \u001b[0;34m'TIFF'\u001b[0m\u001b[0;34m,\u001b[0m \u001b[0;34m'BMP'\u001b[0m\u001b[0;34m,\u001b[0m \u001b[0;34m'GIF'\u001b[0m\u001b[0;34m}\u001b[0m\u001b[0;34m:\u001b[0m\u001b[0;34m\u001b[0m\u001b[0m\n",
      "\u001b[0;32m~/.pyenv/versions/3.7.0/lib/python3.7/site-packages/pytesseract/pytesseract.py\u001b[0m in \u001b[0;36mprepare\u001b[0;34m(image)\u001b[0m\n\u001b[1;32m     97\u001b[0m         \u001b[0;32mreturn\u001b[0m \u001b[0mImage\u001b[0m\u001b[0;34m.\u001b[0m\u001b[0mfromarray\u001b[0m\u001b[0;34m(\u001b[0m\u001b[0mimage\u001b[0m\u001b[0;34m)\u001b[0m\u001b[0;34m\u001b[0m\u001b[0m\n\u001b[1;32m     98\u001b[0m \u001b[0;34m\u001b[0m\u001b[0m\n\u001b[0;32m---> 99\u001b[0;31m     \u001b[0;32mraise\u001b[0m \u001b[0mTypeError\u001b[0m\u001b[0;34m(\u001b[0m\u001b[0;34m'Unsupported image object'\u001b[0m\u001b[0;34m)\u001b[0m\u001b[0;34m\u001b[0m\u001b[0m\n\u001b[0m\u001b[1;32m    100\u001b[0m \u001b[0;34m\u001b[0m\u001b[0m\n\u001b[1;32m    101\u001b[0m \u001b[0;34m\u001b[0m\u001b[0m\n",
      "\u001b[0;31mTypeError\u001b[0m: Unsupported image object"
     ]
    }
   ],
   "source": [
    "chrome_options = Options()\n",
    "chrome_options.add_argument('load-extension=' + adblock_path)\n",
    "chrome_options.add_argument(\"--window-size=1920,1080\")\n",
    "# chrome_options.add_argument(\"--headless\")  \n",
    "chrome_options.add_argument(\"--mute-audio\")\n",
    "driver = webdriver.Chrome(driver_path, chrome_options=chrome_options) \n",
    "driver.create_options()\n",
    "try:\n",
    "    wait = WebDriverWait(driver, timeout=10)\n",
    "    driver.get(video_url)\n",
    "#     fullscreen = driver.find_element_by_class_name('ytp-fullscreen-button')\n",
    "    \n",
    "#     wait.until(EC.visibility_of_element_located((By.CSS_SELECTOR, '.ytp-play-button')))\n",
    "#     time.sleep(2)\n",
    "#     wait.until(EC.visibility_of_element_located((By.CSS_SELECTOR, '.ytp-fullscreen-button'))).send_keys('f')\n",
    "#     time.sleep(2)\n",
    "#     body = driver.find_element_by_tag_name(\"body\");\n",
    "#     body.send_keys('f')\n",
    "#     time.sleep(3)\n",
    "#     driver.save_screenshot(screenshots_dir + 'bla.png')\n",
    "#     time.sleep(2)\n",
    "    \n",
    "#     time.sleep(2)\n",
    "#     elem.click()\n",
    "#     elem.send_keys('f')\n",
    "\n",
    "    driver.save_screenshot(screenshots_dir+'bla.png')\n",
    "    time.sleep(2)\n",
    "    webdriver.ActionChains(driver).send_keys('f').perform()\n",
    "    time.sleep(1)\n",
    "    wait.until(EC.invisibility_of_element_located((By.CSS_SELECTOR, '.ytp-play-button')))\n",
    "#     elem.click()\n",
    "    for idx in range(20):\n",
    "#         driver.save_screenshot(img_path)\n",
    "#         print(get_scores_from_img(img_path))\n",
    "#         new_img_path = screenshots_dir+'cgopt_new{0}'.format(idx)+'.png'\n",
    "        driver.save_screenshot(curr_img_path)\n",
    "        print('screenshot {0}'.format(idx))\n",
    "#         show_img_from_path(curr_img_path)\n",
    "        print(get_scores_from_img(curr_img_path))\n",
    "        time.sleep(5)\n",
    "finally:\n",
    "    driver.quit()"
   ]
  },
  {
   "cell_type": "code",
   "execution_count": null,
   "metadata": {},
   "outputs": [],
   "source": []
  }
 ],
 "metadata": {
  "kernelspec": {
   "display_name": "Python 3",
   "language": "python",
   "name": "python3"
  },
  "language_info": {
   "codemirror_mode": {
    "name": "ipython",
    "version": 3
   },
   "file_extension": ".py",
   "mimetype": "text/x-python",
   "name": "python",
   "nbconvert_exporter": "python",
   "pygments_lexer": "ipython3",
   "version": "3.7.0"
  }
 },
 "nbformat": 4,
 "nbformat_minor": 2
}
