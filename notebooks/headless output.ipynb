{
 "cells": [
  {
   "cell_type": "code",
   "execution_count": 1,
   "metadata": {},
   "outputs": [],
   "source": [
    "# http://selenium-python.readthedocs.io/getting-started.html\n",
    "import time \n",
    "import re\n",
    "from selenium import webdriver\n",
    "from selenium.webdriver.common.keys import Keys\n",
    "from selenium.webdriver.common.by import By\n",
    "from selenium.webdriver.support.ui import WebDriverWait\n",
    "from selenium.webdriver.support import expected_conditions as EC\n",
    "from selenium.webdriver.chrome.options import Options as Chrome_Options\n",
    "from selenium.webdriver import Firefox\n",
    "from selenium.webdriver.firefox.options import Options as Firefox_Options\n",
    "try:\n",
    "    import Image\n",
    "except ImportError:\n",
    "    from PIL import Image\n",
    "import pytesseract\n",
    "import glob\n",
    "import matplotlib, cv2\n",
    "import numpy as np\n",
    "import matplotlib.pyplot as plt\n",
    "import re"
   ]
  },
  {
   "cell_type": "code",
   "execution_count": 83,
   "metadata": {},
   "outputs": [
    {
     "name": "stdout",
     "output_type": "stream",
     "text": [
      "../selenium/firefoxabp/adblock_plus-3.2-an+fx.xpi\n"
     ]
    }
   ],
   "source": [
    "screenshots_dir = '../screenshots/'\n",
    "selenium_path = '../selenium/'\n",
    "driver_path = selenium_path + 'chromedriver'\n",
    "firefox_driver = selenium_path + 'geckodriver'\n",
    "adblock_path = selenium_path + 'adblock/1.500_0/'\n",
    "firefox_abp = selenium_path + 'firefoxabp/adblock_plus-3.2-an+fx.xpi'\n",
    "print(firefox_abp)\n",
    "video_url='https://youtu.be/Nf_pakPwZg0?t=37m58s'\n",
    "data_path = \"../screenshots/\"\n",
    "images = glob.glob(data_path+'lcs*.png')\n",
    "tmp_ff_abp = '/tmp/adblock_plus-3.2-an+fx.xpi'"
   ]
  },
  {
   "cell_type": "code",
   "execution_count": 53,
   "metadata": {},
   "outputs": [],
   "source": [
    "%%bash -s \"$firefox_abp\"\n",
    "cp $1 /tmp/"
   ]
  },
  {
   "cell_type": "code",
   "execution_count": 94,
   "metadata": {},
   "outputs": [
    {
     "name": "stdout",
     "output_type": "stream",
     "text": [
      "{'width': 1366, 'height': 768}\n",
      "{'width': 2560, 'height': 1440}\n",
      "screenshot0\n",
      "screenshot1\n",
      "screenshot2\n",
      "screenshot3\n",
      "screenshot4\n"
     ]
    }
   ],
   "source": [
    "try:\n",
    "    options = Firefox_Options()\n",
    "    options.add_argument('-headless')\n",
    "    driver = Firefox(executable_path=firefox_driver, firefox_options=options)\n",
    "    driver.install_addon(tmp_ff_abp)\n",
    "    driver.set_window_size(2560, 1440)\n",
    "    wait = WebDriverWait(driver, timeout=10)\n",
    "    driver.get(video_url)    \n",
    "    time.sleep(1)\n",
    "    driver.switch_to.window(driver.window_handles[0])\n",
    "    time.sleep(1)\n",
    "    wait.until(EC.visibility_of_element_located((By.CSS_SELECTOR, '.ytp-play-button')))\n",
    "    time.sleep(2)\n",
    "    webdriver.ActionChains(driver).send_keys('f').perform()\n",
    "    time.sleep(2)\n",
    "    print(driver.get_window_size())\n",
    "    driver.set_window_size(2560, 1440)\n",
    "#    driver.maximize_window()\n",
    "    print(driver.get_window_size())\n",
    "#     wait.until(EC.invisibility_of_element_located((By.CSS_SELECTOR, '.ytp-play-button')))\n",
    "    for i in range(5):\n",
    "        driver.save_screenshot(screenshots_dir+'ff{0}.png'.format(i))\n",
    "        print('screenshot{0}'.format(i))\n",
    "        time.sleep(.5)\n",
    "#   ad_close_button = webdriver.find_element_by_class_name('ytp-ad-overlay-close-button')\n",
    "#   ad_close_button.click()\n",
    "#     driver.save_screenshot(screenshots_dir+'ffbla2.png')\n",
    "#     time.sleep(5)\n",
    "#     driver.save_screenshot(screenshots_dir+'ffbla3.png')\n",
    "#     print(driver.page_source)\n",
    "finally:\n",
    "    driver.quit()"
   ]
  },
  {
   "cell_type": "code",
   "execution_count": null,
   "metadata": {},
   "outputs": [],
   "source": []
  }
 ],
 "metadata": {
  "kernelspec": {
   "display_name": "Python 3",
   "language": "python",
   "name": "python3"
  },
  "language_info": {
   "codemirror_mode": {
    "name": "ipython",
    "version": 3
   },
   "file_extension": ".py",
   "mimetype": "text/x-python",
   "name": "python",
   "nbconvert_exporter": "python",
   "pygments_lexer": "ipython3",
   "version": "3.7.0"
  }
 },
 "nbformat": 4,
 "nbformat_minor": 2
}
